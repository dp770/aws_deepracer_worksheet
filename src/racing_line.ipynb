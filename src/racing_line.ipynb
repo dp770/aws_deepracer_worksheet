{
 "cells": [
  {
   "cell_type": "markdown",
   "metadata": {
    "collapsed": true,
    "pycharm": {
     "name": "#%% md\n"
    }
   },
   "source": [
    "# Racing line calculation and visualisation\n",
    "\n",
    "The approach is to smooth central line of a given track. This is achieved by minimising the distance between each pair\n",
    " of two closes waypoints. Selected closes waypoints are not always the nearest waypoints, such as between a pair of\n",
    " selected waypoints, there might be others waypoints located closer. However, these are still close enough to be used.\n",
    " This is controlled by skipp_step parameter, which allows acceleration of the algorithm. The optimisation algorithm\n",
    " takes into account track's inner and outer borders to ensure that new calculated waypoints do not touch the borders or\n",
    " go beyond the borders or located too close to the borders. This is controlled by  max_offset parameter.\n",
    "\n",
    "This algorithm does not search for an optimal arc of corners to race at the maximum possible speed for a given steering."
   ]
  },
  {
   "cell_type": "code",
   "execution_count": null,
   "metadata": {
    "pycharm": {
     "name": "#%%\n"
    }
   },
   "outputs": [],
   "source": [
    "import glob\n",
    "import math\n",
    "import os.path\n",
    "import importlib.util\n",
    "import numpy as np\n",
    "import matplotlib.pyplot as plt\n",
    "from src.reward_function import calc_distance\n",
    "from src.reward_function import smooth_central_line\n",
    "\n",
    "def load_track_definition(track_name):\n",
    "    spec = importlib.util.spec_from_file_location(track_name, \"../tracks/%s.py\" % track_name)\n",
    "    module = importlib.util.module_from_spec(spec)\n",
    "    spec.loader.exec_module(module)\n",
    "    return module.track_width, np.asarray(module.track_original)\n",
    "\n",
    "def calc_track_borders(track_width, center_line):\n",
    "    delta_x = (np.roll(center_line[:,0], 1) - np.roll(center_line[:,0], -1))\n",
    "    delta_y = (np.roll(center_line[:,1], 1) - np.roll(center_line[:,1], -1))\n",
    "    delta_xy = np.vstack((delta_x, delta_y)).T\n",
    "    l2_norm = np.array([math.hypot(dx, dy) for [dx, dy] in delta_xy])\n",
    "    sinAlpa = delta_x / l2_norm\n",
    "    cosAlpa = delta_y / l2_norm\n",
    "\n",
    "    half_track_width = track_width * 0.5\n",
    "    inner_border_x = center_line[:,0] + cosAlpa * half_track_width\n",
    "    inner_border_y = center_line[:,1] - sinAlpa * half_track_width\n",
    "\n",
    "    outer_border_x = center_line[:,0] - cosAlpa * half_track_width\n",
    "    outer_border_y = center_line[:,1] + sinAlpa * half_track_width\n",
    "\n",
    "    inner_border = np.vstack((inner_border_x, inner_border_y)).T\n",
    "    outer_border = np.vstack((outer_border_x, outer_border_y)).T\n",
    "    return inner_border, outer_border\n",
    "\n",
    "track_files = glob.glob(\"../tracks/*.npy\")\n",
    "track_names = list(map(lambda x: os.path.basename(x).split(\".npy\")[0], track_files))\n",
    "print(\"Available tracks:\")\n",
    "track_names"
   ]
  },
  {
   "cell_type": "code",
   "execution_count": null,
   "metadata": {
    "pycharm": {
     "name": "#%%\n"
    }
   },
   "outputs": [],
   "source": [
    "TRACK_NAME = \"Po-Chun_Speedway\"\n",
    "print(\"Track: \", TRACK_NAME)"
   ]
  },
  {
   "cell_type": "code",
   "execution_count": null,
   "metadata": {
    "pycharm": {
     "name": "#%%\n"
    }
   },
   "outputs": [],
   "source": [
    "##### Use the following steps to create new .npy file for a track, if not available above.\n",
    "new_track_width, new_center_line = load_track_definition(TRACK_NAME)\n",
    "new_inner_border, new_outer_border = calc_track_borders(new_track_width, new_center_line)\n",
    "NEW_WAYPOINTS = np.concatenate((new_center_line, new_inner_border, new_outer_border), axis=1)\n",
    "with open(\"../tracks/%s.npy\" % TRACK_NAME, \"wb\") as f:\n",
    "    np.save(f, np.asarray(NEW_WAYPOINTS))"
   ]
  },
  {
   "cell_type": "code",
   "execution_count": null,
   "metadata": {
    "pycharm": {
     "name": "#%%\n"
    }
   },
   "outputs": [],
   "source": [
    "# Load track coordinates\n",
    "track_width, _ = load_track_definition(TRACK_NAME)\n",
    "waypoints = np.load(\"../tracks/%s.npy\" % TRACK_NAME)\n",
    "center_line = waypoints[:,0:2]\n",
    "inner_border = waypoints[:,2:4]\n",
    "outer_border = waypoints[:,4:6]\n",
    "\n",
    "def plot_track(smooth_line, inner_border, outer_border, center_line = None):\n",
    "    fig, ax = plt.subplots()\n",
    "    ax.set_facecolor(\"#103010\")\n",
    "    if center_line is not None:\n",
    "            ax.plot(center_line[:,0], center_line[:,1], 'y--', alpha=0.3, label = 'center_line')\n",
    "    ax.plot(smooth_line[:,0], smooth_line[:,1], 'y--', label = 'smooth_line')\n",
    "    ax.plot(inner_border[:,0], inner_border[:,1], 'w-', alpha=0.3, label = 'inner_border')\n",
    "    ax.plot(outer_border[:,0], outer_border[:,1], 'w-', alpha=0.3, label = 'outer_border')\n",
    "    ax.fill_between(outer_border[:,0], outer_border[:,1], outer_border[:+1,1], facecolor=\"#03030f\")\n",
    "    ax.fill_between(inner_border[:,0], inner_border[:,1], inner_border[:+1,1], facecolor=\"#103010\")\n",
    "    fig.tight_layout()\n",
    "    plt.axis('scaled')\n",
    "    return plt\n",
    "\n",
    "\n",
    "def show_smooth_line(smooth_cline, center_line, inner_border, outer_border):\n",
    "    # These should be the same\n",
    "    np_smooth_cline = np.asarray(smooth_cline)\n",
    "    length_of_center_line = 0.0\n",
    "    for i in range(1, len(center_line)):\n",
    "        length_of_center_line += calc_distance(center_line[i - 1], center_line[i])\n",
    "    length_of_smooth_cline = 0.0\n",
    "    for i in range(1, len(smooth_cline)):\n",
    "        length_of_smooth_cline += calc_distance(smooth_cline[i - 1], smooth_cline[i])\n",
    "    for i in range(1, len(smooth_cline)):\n",
    "        border_width = calc_distance(center_line[i], inner_border[i])\n",
    "        racing_width = calc_distance(center_line[i], smooth_cline[i])\n",
    "        if racing_width > border_width:\n",
    "            print(\"WARNING: Racing line is off border: \", \"\\nborder width =\",border_width, \"\\nracing width =\", racing_width)\n",
    "        break\n",
    "    print(\"Original line length: %0.2f\" % length_of_center_line)\n",
    "    print(\"New race line length: %0.2f\" % length_of_smooth_cline)\n",
    "    return plot_track(np_smooth_cline, inner_border, outer_border, center_line)\n",
    "\n",
    "\n",
    "track = plot_track(center_line, inner_border, outer_border)\n",
    "track.savefig(\"../tracks/%s.png\" % TRACK_NAME, bbox_inches='tight', dpi=200)\n",
    "track.show()"
   ]
  },
  {
   "cell_type": "code",
   "execution_count": null,
   "metadata": {
    "pycharm": {
     "name": "#%%\n"
    }
   },
   "outputs": [],
   "source": [
    "# maximum allowed offset of racing line from central line in percentage\n",
    "RACING_LINE_VS_CENTRAL_LINE = 0.90\n",
    "max_offset = track_width * RACING_LINE_VS_CENTRAL_LINE * 0.5\n",
    "\n",
    "smooth_cline1 = smooth_central_line(center_line, max_offset)\n",
    "track = show_smooth_line(smooth_cline1, center_line, inner_border, outer_border)\n",
    "track.savefig(\"../tracks/%s_v1.png\" % TRACK_NAME, bbox_inches='tight', dpi=200)\n",
    "track.show()"
   ]
  },
  {
   "cell_type": "code",
   "execution_count": null,
   "metadata": {
    "pycharm": {
     "name": "#%%\n"
    }
   },
   "outputs": [],
   "source": [
    "smooth_cline2 = smooth_central_line(center_line, max_offset, skip_step=2)\n",
    "track = show_smooth_line(smooth_cline2, center_line, inner_border, outer_border)\n",
    "track.savefig(\"../tracks/%s_v2.png\" % TRACK_NAME, bbox_inches='tight', dpi=200)\n",
    "track.show()"
   ]
  },
  {
   "cell_type": "code",
   "execution_count": null,
   "metadata": {
    "pycharm": {
     "name": "#%%\n"
    }
   },
   "outputs": [],
   "source": [
    "smooth_cline3 = smooth_central_line(center_line, max_offset, 0.10, 0.15, 0.50, 0.15, 0.10, skip_step=3)\n",
    "track = show_smooth_line(smooth_cline3, center_line, inner_border, outer_border)\n",
    "track.savefig(\"../tracks/%s_v3.png\" % TRACK_NAME, bbox_inches='tight', dpi=200)\n",
    "track.show()"
   ]
  },
  {
   "cell_type": "code",
   "execution_count": null,
   "metadata": {
    "pycharm": {
     "name": "#%%\n"
    }
   },
   "outputs": [],
   "source": [
    "smooth_cline2"
   ]
  }
 ],
 "metadata": {
  "kernelspec": {
   "display_name": "Python 3",
   "language": "python",
   "name": "python3"
  },
  "language_info": {
   "codemirror_mode": {
    "name": "ipython",
    "version": 2
   },
   "file_extension": ".py",
   "mimetype": "text/x-python",
   "name": "python",
   "nbconvert_exporter": "python",
   "pygments_lexer": "ipython2",
   "version": "2.7.6"
  }
 },
 "nbformat": 4,
 "nbformat_minor": 0
}